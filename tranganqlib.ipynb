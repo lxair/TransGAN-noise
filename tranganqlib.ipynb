{
 "cells": [
  {
   "cell_type": "code",
   "execution_count": 1,
   "metadata": {},
   "outputs": [
    {
     "name": "stdout",
     "output_type": "stream",
     "text": [
      "ModuleNotFoundError. CatBoostModel are skipped. (optional: maybe installing CatBoostModel can fix it.)\n",
      "ModuleNotFoundError. XGBModel is skipped(optional: maybe installing xgboost can fix it).\n"
     ]
    },
    {
     "name": "stderr",
     "output_type": "stream",
     "text": [
      "/home/shared/anaconda3/envs/seg/lib/python3.8/site-packages/tqdm/auto.py:22: TqdmWarning: IProgress not found. Please update jupyter and ipywidgets. See https://ipywidgets.readthedocs.io/en/stable/user_install.html\n",
      "  from .autonotebook import tqdm as notebook_tqdm\n",
      "[2350:MainThread](2023-04-14 14:44:32,320) INFO - qlib.Initialization - [config.py:413] - default_conf: client.\n",
      "[2350:MainThread](2023-04-14 14:44:32,324) INFO - qlib.workflow - [expm.py:31] - experiment manager uri is at file:/home/shared/qlib-main/mlruns\n",
      "[2350:MainThread](2023-04-14 14:44:32,326) INFO - qlib.Initialization - [__init__.py:74] - qlib successfully initialized based on client settings.\n",
      "[2350:MainThread](2023-04-14 14:44:32,327) INFO - qlib.Initialization - [__init__.py:76] - data_path={'__DEFAULT_FREQ': PosixPath('/home/shared/qlib-main/qlib_data/cn_data')}\n",
      "[2350:MainThread](2023-04-14 14:44:32,432) INFO - qlib.TransGANModel - [transgan.py:88] - Naive TransGAN:\n",
      "batch_size : 256\n",
      "device : cuda:3\n",
      "[2350:MainThread](2023-04-14 14:44:40,305) INFO - qlib.timer - [log.py:117] - Time cost: 5.681s | Loading data Done\n",
      "[2350:MainThread](2023-04-14 14:44:40,312) INFO - qlib.timer - [log.py:117] - Time cost: 0.002s | FilterCol Done\n",
      "[2350:MainThread](2023-04-14 14:44:40,324) INFO - qlib.timer - [log.py:117] - Time cost: 0.011s | RobustZScoreNorm Done\n",
      "[2350:MainThread](2023-04-14 14:44:40,327) INFO - qlib.timer - [log.py:117] - Time cost: 0.002s | Fillna Done\n",
      "[2350:MainThread](2023-04-14 14:44:40,331) INFO - qlib.timer - [log.py:117] - Time cost: 0.002s | DropnaLabel Done\n",
      "[2350:MainThread](2023-04-14 14:44:40,336) INFO - qlib.timer - [log.py:117] - Time cost: 0.004s | CSRankNorm Done\n",
      "[2350:MainThread](2023-04-14 14:44:40,338) INFO - qlib.timer - [log.py:117] - Time cost: 0.031s | fit & process data Done\n",
      "[2350:MainThread](2023-04-14 14:44:40,339) INFO - qlib.timer - [log.py:117] - Time cost: 5.716s | Init data Done\n"
     ]
    }
   ],
   "source": [
    "import sys\n",
    "from pathlib import Path\n",
    "import qlib\n",
    "import pandas as pd\n",
    "from qlib.config import REG_CN\n",
    "from qlib.contrib.model.gbdt import LGBModel\n",
    "from qlib.contrib.data.handler import Alpha360\n",
    "from qlib.utils import init_instance_by_config\n",
    "from qlib.contrib.strategy import TopkDropoutStrategy\n",
    "from qlib.contrib.report import analysis_model, analysis_position\n",
    "# from qlib.contrib.evaluate import (\n",
    "#     backtest as normal_backtest,\n",
    "#     risk_analysis,\n",
    "# )\n",
    "from qlib.utils import exists_qlib_data, init_instance_by_config, flatten_dict\n",
    "from qlib.workflow import R\n",
    "from qlib.workflow.record_temp import SignalRecord, PortAnaRecord\n",
    "from qlib.utils import flatten_dict\n",
    "from qlib.data.dataset.loader import QlibDataLoader\n",
    "from qlib.contrib.data.handler import Alpha158   #Alpha158内置指标体系\n",
    "from qlib.data.dataset.loader import QlibDataLoader\n",
    "import qlib\n",
    "from qlib.contrib.data.handler import Alpha158   #Alpha158内置指标体系\n",
    "provider_uri = \"./qlib_data/cn_data\"  # 原始行情数据存放目录\n",
    "qlib.init(provider_uri=provider_uri, region=REG_CN)  # 初始化\n",
    "market = \"csi100\"\n",
    "benchmark = \"SH000300\"\n",
    "\n",
    " #数据处理器参数配置\n",
    "data_handler_config = {\n",
    "    \"start_time\": \"2008-01-01\",\n",
    "    \"end_time\": \"2020-08-01\",\n",
    "    \"fit_start_time\": \"2008-01-01\",\n",
    "    \"fit_end_time\": \"2014-12-31\",\n",
    "    \"instruments\": market,\n",
    "    \"infer_processors\" : [\n",
    "                                    {'class': 'FilterCol',##过滤器\n",
    "                                     'kwargs': {'fields_group': 'feature', 'col_list': [\"KMID\",\"KLOW\",\"OPEN0\"]\n",
    "                                     }},\n",
    "                                    {'class': 'RobustZScoreNorm', # RobustZScoreNorm和Fillna，用于进行标准化和填充缺失值。\n",
    "                                     'kwargs': {'fields_group': 'feature', 'clip_outlier': True}},\n",
    "                                    {'class': 'Fillna', 'kwargs': {'fields_group': 'feature'}}],\n",
    "    \"learn_processors\": [{'class': 'DropnaLabel'}, #DropnaLabel删除标注中含有缺失值的样本。\n",
    "\n",
    "                                    # 对预测的目标进行截面排序处理  DropnaLabel 和 CSRankNorm 预处理器，用于对标签进行处理。\n",
    "                                    {'class': 'CSRankNorm', 'kwargs': {'fields_group': 'label'}}],\n",
    "\n",
    "                                    # 预测的目标nvidia=\n",
    "                                    'label': [\"Ref($close, -2) / Ref($close, -1) - 1\"] ,#下一日收益率, Ref($close, -1)表示下一日收盘价\n",
    "                                    #'label': ['Ref($close, -1)'],\n",
    "}\n",
    "    \n",
    "\n",
    "# 任务参数配置\n",
    "task = {\n",
    "    \"model\": {  # 模型参数配置\n",
    "        # 模型类\n",
    "        \"class\": \"TransGANModel\",\n",
    "        # 模型类所在模块\n",
    "        \"module_path\": \"qlib.contrib.model.transgan\",\n",
    "        \"kwargs\": {  # 模型超参数配置\n",
    "            \"hidden_size\": 4,\n",
    "            \"num_layers\" : 2,\n",
    "            \"nhead\" : 2,\n",
    "            \"learning_rate\" : 0.001,\n",
    "            \"num_epochs\" : 3,\n",
    "            \"batch_size\": 256,\n",
    "            \"optimizer_betas\" :(0.9,0.999),\n",
    "            \"evaluation_epoch_num\" :5 ,\n",
    "            \n",
    "        }, \n",
    "    },\n",
    "    \"dataset\": {  # 　因子库数据集参数配置\n",
    "        # 数据集类，是Dataset with Data(H)andler的缩写，即带数据处理器的数据集\n",
    "        \"class\": \"TSDatasetH\",\n",
    "        # 数据集类所在模块\n",
    "        \"module_path\": \"qlib.data.dataset\",\n",
    "        \"kwargs\": {  # 数据集参数配置\n",
    "            \"handler\": {  # 数据集使用的数据处理器配置\n",
    "                #\"class\": \"Alpha158\",  # 数据处理器类，继承自DataHandlerLP\n",
    "                \"module_path\": \"qlib.contrib.data.handler\",  # 数据处理器类所在模块\n",
    "                \"class\": \"Alpha158\",\n",
    "                \"kwargs\": data_handler_config,  # 数据处理器参数配置\n",
    "            },\n",
    "            \"segments\": {  # 数据集划分标准\n",
    "                \"train\": (\"2008-01-01\", \"2014-12-31\"), # 此时段的数据为训练集\n",
    "                \"valid\": (\"2015-01-01\", \"2016-12-31\"), # 此时段的数据为验证集\n",
    "                \"test\": (\"2017-01-01\", \"2020-08-01\"),  # 此时段的数据为测试集\n",
    "            },\n",
    "        },\n",
    "    },\n",
    "\n",
    "}\n",
    "\n",
    "# 实例化模型对象\n",
    "model = init_instance_by_config(task[\"model\"])\n",
    "\n",
    "# 实例化因子库数据集，从基础行情数据计算出的包含所有特征（因子）和标签值的数据集。\n",
    "dataset = init_instance_by_config(task[\"dataset\"])  # DatasetH\n"
   ]
  },
  {
   "cell_type": "code",
   "execution_count": 2,
   "metadata": {},
   "outputs": [
    {
     "name": "stderr",
     "output_type": "stream",
     "text": [
      "[2350:MainThread](2023-04-14 14:44:40,400) INFO - qlib.workflow - [expm.py:316] - <mlflow.tracking.client.MlflowClient object at 0x7fc6b441b670>\n",
      "[2350:MainThread](2023-04-14 14:44:40,410) INFO - qlib.workflow - [exp.py:260] - Experiment 1 starts running ...\n",
      "[2350:MainThread](2023-04-14 14:44:40,762) INFO - qlib.workflow - [recorder.py:339] - Recorder d2276996eb39460590295fe17c8f77fb starts running under Experiment 1 ...\n",
      "Not a git repository\n",
      "To compare two paths outside a working tree:\n",
      "usage: git diff [--no-index] <path> <path>\n",
      "[2350:MainThread](2023-04-14 14:44:40,843) INFO - qlib.workflow - [recorder.py:372] - Fail to log the uncommitted code of $CWD when run `git diff`\n",
      "fatal: 不是一个 git 仓库（或者直至挂载点 / 的任何父目录）\n",
      "停止在文件系统边界（未设置 GIT_DISCOVERY_ACROSS_FILESYSTEM）。\n",
      "[2350:MainThread](2023-04-14 14:44:40,925) INFO - qlib.workflow - [recorder.py:372] - Fail to log the uncommitted code of $CWD when run `git status`\n",
      "Not a git repository\n",
      "To compare two paths outside a working tree:\n",
      "usage: git diff [--no-index] <path> <path>\n",
      "[2350:MainThread](2023-04-14 14:44:41,006) INFO - qlib.workflow - [recorder.py:372] - Fail to log the uncommitted code of $CWD when run `git diff --cached`\n",
      "[2350:MainThread](2023-04-14 14:44:41,045) INFO - qlib.TransformerModel - [pytorch_transformer_ts.py:62] - Naive Transformer:\n",
      "batch_size : 256\n",
      "device : cuda:3\n",
      "[2350:MainThread](2023-04-14 14:44:41,082) INFO - qlib.TransformerModel - [pytorch_transformer_ts.py:200] - training...\n",
      "[2350:MainThread](2023-04-14 14:44:41,083) INFO - qlib.TransformerModel - [pytorch_transformer_ts.py:204] - Epoch0:\n",
      "[2350:MainThread](2023-04-14 14:44:41,085) INFO - qlib.TransformerModel - [pytorch_transformer_ts.py:205] - training...\n",
      "[2350:MainThread](2023-04-14 14:44:42,544) INFO - qlib.TransformerModel - [pytorch_transformer_ts.py:207] - evaluating...\n",
      "[2350:MainThread](2023-04-14 14:44:43,822) INFO - qlib.TransformerModel - [pytorch_transformer_ts.py:210] - train -1.545018, valid -1.929209\n",
      "[2350:MainThread](2023-04-14 14:44:43,832) INFO - qlib.TransformerModel - [pytorch_transformer_ts.py:204] - Epoch1:\n",
      "[2350:MainThread](2023-04-14 14:44:43,833) INFO - qlib.TransformerModel - [pytorch_transformer_ts.py:205] - training...\n",
      "[2350:MainThread](2023-04-14 14:44:44,733) INFO - qlib.TransformerModel - [pytorch_transformer_ts.py:207] - evaluating...\n",
      "[2350:MainThread](2023-04-14 14:44:46,117) INFO - qlib.TransformerModel - [pytorch_transformer_ts.py:210] - train -1.210156, valid -1.401146\n",
      "[2350:MainThread](2023-04-14 14:44:46,124) INFO - qlib.TransformerModel - [pytorch_transformer_ts.py:204] - Epoch2:\n",
      "[2350:MainThread](2023-04-14 14:44:46,125) INFO - qlib.TransformerModel - [pytorch_transformer_ts.py:205] - training...\n",
      "[2350:MainThread](2023-04-14 14:44:46,876) INFO - qlib.TransformerModel - [pytorch_transformer_ts.py:207] - evaluating...\n",
      "[2350:MainThread](2023-04-14 14:44:48,402) INFO - qlib.TransformerModel - [pytorch_transformer_ts.py:210] - train -1.080457, valid -1.125412\n",
      "[2350:MainThread](2023-04-14 14:44:48,408) INFO - qlib.TransformerModel - [pytorch_transformer_ts.py:225] - best score: -1.125412 @ 2\n",
      "[2350:MainThread](2023-04-14 14:44:48,691) INFO - qlib.TransGANModel - [transgan.py:364] - Epoch [1/3]\n",
      "[2350:MainThread](2023-04-14 14:44:48,693) INFO - qlib.TransGANModel - [transgan.py:365] - Training...\n"
     ]
    },
    {
     "name": "stdout",
     "output_type": "stream",
     "text": [
      "Generator and discriminator are initialized\n"
     ]
    },
    {
     "name": "stderr",
     "output_type": "stream",
     "text": [
      "[2350:MainThread](2023-04-14 14:44:49,938) INFO - qlib.TransGANModel - [transgan.py:364] - Epoch [2/3]\n",
      "[2350:MainThread](2023-04-14 14:44:49,939) INFO - qlib.TransGANModel - [transgan.py:365] - Training...\n"
     ]
    },
    {
     "name": "stdout",
     "output_type": "stream",
     "text": [
      "Generator Loss: 0.8595, Discriminator Loss: 1.5342\n",
      "KMID | Real:3.0000 / Generated:0.9079\n",
      "KLOW | Real:-0.8819 / Generated:-0.9571\n",
      "OPEN0 | Real:-3.0000 / Generated:0.6193\n",
      "Generator and discriminator are initialized\n"
     ]
    },
    {
     "name": "stderr",
     "output_type": "stream",
     "text": [
      "[2350:MainThread](2023-04-14 14:44:51,112) INFO - qlib.TransGANModel - [transgan.py:364] - Epoch [3/3]\n",
      "[2350:MainThread](2023-04-14 14:44:51,115) INFO - qlib.TransGANModel - [transgan.py:365] - Training...\n"
     ]
    },
    {
     "name": "stdout",
     "output_type": "stream",
     "text": [
      "Generator Loss: 0.6290, Discriminator Loss: 1.4082\n",
      "KMID | Real:1.8605 / Generated:-0.3962\n",
      "KLOW | Real:-0.1032 / Generated:-0.8304\n",
      "OPEN0 | Real:-1.8231 / Generated:-0.3455\n",
      "Generator and discriminator are initialized\n"
     ]
    },
    {
     "name": "stderr",
     "output_type": "stream",
     "text": [
      "[2350:MainThread](2023-04-14 14:44:52,391) INFO - qlib.TransGANModel - [transgan.py:382] - training...\n",
      "[2350:MainThread](2023-04-14 14:44:52,393) INFO - qlib.TransGANModel - [transgan.py:386] - Epoch0:\n",
      "[2350:MainThread](2023-04-14 14:44:52,395) INFO - qlib.TransGANModel - [transgan.py:387] - training...\n"
     ]
    },
    {
     "name": "stdout",
     "output_type": "stream",
     "text": [
      "Generator Loss: 0.8897, Discriminator Loss: 1.3654\n",
      "KMID | Real:0.3888 / Generated:0.8787\n",
      "KLOW | Real:0.5825 / Generated:-0.7754\n",
      "OPEN0 | Real:-0.3864 / Generated:1.0187\n"
     ]
    },
    {
     "name": "stderr",
     "output_type": "stream",
     "text": [
      "[2350:MainThread](2023-04-14 14:44:53,278) INFO - qlib.TransGANModel - [transgan.py:390] - evaluating...\n",
      "[2350:MainThread](2023-04-14 14:44:54,860) INFO - qlib.TransGANModel - [transgan.py:394] - train -1.831293, valid -1.552992\n",
      "[2350:MainThread](2023-04-14 14:44:54,865) INFO - qlib.TransGANModel - [transgan.py:386] - Epoch1:\n",
      "[2350:MainThread](2023-04-14 14:44:54,866) INFO - qlib.TransGANModel - [transgan.py:387] - training...\n",
      "[2350:MainThread](2023-04-14 14:44:55,714) INFO - qlib.TransGANModel - [transgan.py:390] - evaluating...\n",
      "[2350:MainThread](2023-04-14 14:44:57,281) INFO - qlib.TransGANModel - [transgan.py:394] - train -1.973051, valid -1.539638\n",
      "[2350:MainThread](2023-04-14 14:44:57,288) INFO - qlib.TransGANModel - [transgan.py:386] - Epoch2:\n",
      "[2350:MainThread](2023-04-14 14:44:57,289) INFO - qlib.TransGANModel - [transgan.py:387] - training...\n",
      "[2350:MainThread](2023-04-14 14:44:58,113) INFO - qlib.TransGANModel - [transgan.py:390] - evaluating...\n",
      "[2350:MainThread](2023-04-14 14:44:59,787) INFO - qlib.TransGANModel - [transgan.py:394] - train -1.284946, valid -1.510384\n",
      "[2350:MainThread](2023-04-14 14:44:59,792) INFO - qlib.TransGANModel - [transgan.py:409] - best score: -1.510384 @ 2\n",
      "[2350:MainThread](2023-04-14 14:45:00,012) INFO - qlib.timer - [log.py:117] - Time cost: 0.000s | waiting `async_log` Done\n"
     ]
    }
   ],
   "source": [
    "# start exp to train model\n",
    "with R.start(experiment_name=\"train_model\"):\n",
    "    R.log_params(**flatten_dict(task))\n",
    "    model.fit(dataset)\n",
    "    R.save_objects(trained_model=model)\n",
    "    rid = R.get_recorder().id"
   ]
  },
  {
   "cell_type": "code",
   "execution_count": 3,
   "metadata": {},
   "outputs": [
    {
     "name": "stderr",
     "output_type": "stream",
     "text": [
      "[2350:MainThread](2023-04-14 14:45:00,060) INFO - qlib.workflow - [expm.py:316] - <mlflow.tracking.client.MlflowClient object at 0x7fc68ddcd4f0>\n",
      "[2350:MainThread](2023-04-14 14:45:00,065) INFO - qlib.workflow - [exp.py:260] - Experiment 2 starts running ...\n",
      "[2350:MainThread](2023-04-14 14:45:00,105) INFO - qlib.workflow - [recorder.py:339] - Recorder 72bd4b0fa78949688f30e33f6f5e1555 starts running under Experiment 2 ...\n",
      "Not a git repository\n",
      "To compare two paths outside a working tree:\n",
      "usage: git diff [--no-index] <path> <path>\n",
      "[2350:MainThread](2023-04-14 14:45:00,215) INFO - qlib.workflow - [recorder.py:372] - Fail to log the uncommitted code of $CWD when run `git diff`\n",
      "fatal: 不是一个 git 仓库（或者直至挂载点 / 的任何父目录）\n",
      "停止在文件系统边界（未设置 GIT_DISCOVERY_ACROSS_FILESYSTEM）。\n",
      "[2350:MainThread](2023-04-14 14:45:00,324) INFO - qlib.workflow - [recorder.py:372] - Fail to log the uncommitted code of $CWD when run `git status`\n",
      "Not a git repository\n",
      "To compare two paths outside a working tree:\n",
      "usage: git diff [--no-index] <path> <path>\n",
      "[2350:MainThread](2023-04-14 14:45:00,429) INFO - qlib.workflow - [recorder.py:372] - Fail to log the uncommitted code of $CWD when run `git diff --cached`\n",
      "[2350:MainThread](2023-04-14 14:45:01,358) INFO - qlib.workflow - [record_temp.py:194] - Signal record 'pred.pkl' has been saved as the artifact of the Experiment 2\n",
      "[2350:MainThread](2023-04-14 14:45:01,378) INFO - qlib.backtest caller - [__init__.py:94] - Create new exchange\n"
     ]
    },
    {
     "name": "stdout",
     "output_type": "stream",
     "text": [
      "'The following are prediction results of the TransGANModel model.'\n",
      "                          score\n",
      "datetime   instrument          \n",
      "2020-02-20 SH600000   -0.599181\n",
      "           SH600009   -0.529128\n",
      "           SH600010   -0.595623\n",
      "           SH600011   -0.554787\n",
      "           SH600015   -0.513281\n"
     ]
    },
    {
     "name": "stderr",
     "output_type": "stream",
     "text": [
      "[2350:MainThread](2023-04-14 14:45:07,426) WARNING - qlib.online operator - [exchange.py:216] - factor.day.bin file not exists or factor contains `nan`. Order using adjusted_price.\n",
      "[2350:MainThread](2023-04-14 14:45:07,429) WARNING - qlib.online operator - [exchange.py:218] - trade unit 100 is not supported in adjusted_price mode.\n",
      "[2350:MainThread](2023-04-14 14:45:12,075) WARNING - qlib.data - [data.py:662] - load calendar error: freq=day, future=True; return current calendar!\n",
      "[2350:MainThread](2023-04-14 14:45:12,077) WARNING - qlib.data - [data.py:665] - You can get future calendar by referring to the following document: https://github.com/microsoft/qlib/blob/main/scripts/data_collector/contrib/README.md\n",
      "[2350:MainThread](2023-04-14 14:45:12,097) WARNING - qlib.BaseExecutor - [executor.py:121] - `common_infra` is not set for <qlib.backtest.executor.SimulatorExecutor object at 0x7fc68cffdcd0>\n",
      "backtest loop: 100%|██████████| 871/871 [00:01<00:00, 443.89it/s]\n",
      "[2350:MainThread](2023-04-14 14:45:14,344) INFO - qlib.workflow - [record_temp.py:499] - Portfolio analysis record 'port_analysis_1day.pkl' has been saved as the artifact of the Experiment 2\n",
      "[2350:MainThread](2023-04-14 14:45:14,357) INFO - qlib.workflow - [record_temp.py:524] - Indicator analysis record 'indicator_analysis_1day.pkl' has been saved as the artifact of the Experiment 2\n",
      "[2350:MainThread](2023-04-14 14:45:14,442) INFO - qlib.timer - [log.py:117] - Time cost: 0.000s | waiting `async_log` Done\n"
     ]
    },
    {
     "name": "stdout",
     "output_type": "stream",
     "text": [
      "'The following are analysis results of benchmark return(1day).'\n",
      "                       risk\n",
      "mean               0.000477\n",
      "std                0.012295\n",
      "annualized_return  0.113561\n",
      "information_ratio  0.598699\n",
      "max_drawdown      -0.370479\n",
      "'The following are analysis results of the excess return without cost(1day).'\n",
      "                       risk\n",
      "mean              -0.000338\n",
      "std                0.010972\n",
      "annualized_return -0.080362\n",
      "information_ratio -0.474745\n",
      "max_drawdown      -0.409964\n",
      "'The following are analysis results of the excess return with cost(1day).'\n",
      "                       risk\n",
      "mean              -0.000338\n",
      "std                0.010973\n",
      "annualized_return -0.080549\n",
      "information_ratio -0.475842\n",
      "max_drawdown      -0.410647\n",
      "'The following are analysis results of indicators(1day).'\n",
      "     value\n",
      "ffr    1.0\n",
      "pa     0.0\n",
      "pos    0.0\n"
     ]
    }
   ],
   "source": [
    "###################################\n",
    "# prediction, backtest & analysis\n",
    "###################################\n",
    "port_analysis_config = {\n",
    "    \"executor\": {\n",
    "        \"class\": \"SimulatorExecutor\",\n",
    "        \"module_path\": \"qlib.backtest.executor\",\n",
    "        \"kwargs\": {\n",
    "            \"time_per_step\": \"day\",\n",
    "            \"generate_portfolio_metrics\": True,\n",
    "        },\n",
    "    },\n",
    "    \"strategy\": {\n",
    "        \"class\": \"TopkDropoutStrategy\",\n",
    "        \"module_path\": \"qlib.contrib.strategy\",\n",
    "        \"kwargs\": {\n",
    "            \"model\": model,\n",
    "            \"dataset\": dataset,\n",
    "            \"topk\": 50,\n",
    "            \"n_drop\": 5,\n",
    "        },\n",
    "    },\n",
    "    \"backtest\": {\n",
    "        \"start_time\": \"2017-01-01\",\n",
    "        \"end_time\": \"2020-08-01\",\n",
    "        \"account\": 100000000,\n",
    "        \"benchmark\": benchmark,\n",
    "        \"exchange_kwargs\": {\n",
    "            \"freq\": \"day\",\n",
    "            \"limit_threshold\": 0.095,\n",
    "            \"deal_price\": \"close\",\n",
    "            \"open_cost\": 0.0005,\n",
    "            \"close_cost\": 0.0015,\n",
    "            \"min_cost\": 5,\n",
    "        },\n",
    "    },\n",
    "}\n",
    "\n",
    "# backtest and analysis\n",
    "with R.start(experiment_name=\"backtest_analysis\"):\n",
    "    recorder = R.get_recorder(recorder_id=rid, experiment_name=\"train_model\")\n",
    "    model = recorder.load_object(\"trained_model\")\n",
    "\n",
    "    # prediction\n",
    "    recorder = R.get_recorder()\n",
    "    ba_rid = recorder.id\n",
    "    sr = SignalRecord(model, dataset, recorder)\n",
    "    sr.generate()\n",
    "\n",
    "    # backtest & analysis\n",
    "    par = PortAnaRecord(recorder, port_analysis_config, \"day\")\n",
    "    par.generate()"
   ]
  },
  {
   "cell_type": "code",
   "execution_count": 4,
   "metadata": {},
   "outputs": [
    {
     "name": "stdout",
     "output_type": "stream",
     "text": [
      "                          score     label\n",
      "datetime   instrument                    \n",
      "2020-02-20 SH600000   -0.599181 -0.012389\n",
      "           SH600009   -0.529128 -0.038657\n",
      "           SH600010   -0.595623 -0.008197\n",
      "           SH600011   -0.554787 -0.014000\n",
      "           SH600015   -0.513281 -0.005563\n",
      "...                         ...       ...\n",
      "2020-02-21 SZ002594   -0.650725  0.070242\n",
      "           SZ002736   -0.627254 -0.002357\n",
      "           SZ300015   -0.603333 -0.007494\n",
      "           SZ300059   -0.634297  0.069132\n",
      "           SZ300498   -0.656072  0.006787\n",
      "\n",
      "[200 rows x 2 columns]\n"
     ]
    }
   ],
   "source": [
    "\n",
    "# 从实验记录器加载保存在pkl文件中的预测结果数据\n",
    "pred_df = recorder.load_object(\"pred.pkl\")\n",
    "\n",
    "# 从实验记录器加载保存在pkl文件中的标签数据\n",
    "label_df = recorder.load_object(\"label.pkl\")\n",
    "label_df.columns = ['label']\n",
    "\n",
    "# 构造预测值和标签值并列的df\n",
    "pred_label = pd.concat([pred_df, label_df], axis=1, sort=True).reindex(label_df.index)\n",
    "\n",
    "print(pred_label)"
   ]
  },
  {
   "cell_type": "code",
   "execution_count": 5,
   "metadata": {},
   "outputs": [
    {
     "data": {
      "text/plain": [
       "167"
      ]
     },
     "execution_count": 5,
     "metadata": {},
     "output_type": "execute_result"
    }
   ],
   "source": [
    "import numpy as np\n",
    "# 计算预测值和标签值的正负号\n",
    "pred_sign = np.sign(pred_label[\"score\"])\n",
    "label_sign = np.sign(pred_label[\"label\"])\n",
    "\n",
    "# 统计正负号相同的数量\n",
    "same_sign_count = np.sum(pred_sign == label_sign)\n",
    "same_sign_count"
   ]
  },
  {
   "cell_type": "code",
   "execution_count": 6,
   "metadata": {},
   "outputs": [
    {
     "data": {
      "text/plain": [
       "0.835"
      ]
     },
     "execution_count": 6,
     "metadata": {},
     "output_type": "execute_result"
    }
   ],
   "source": [
    "# 计算出两列数据正负号相同的比例\n",
    "corr_pct = (pred_label['score'] * pred_label['label'] > 0).mean()\n",
    "corr_pct"
   ]
  }
 ],
 "metadata": {
  "kernelspec": {
   "display_name": "seg",
   "language": "python",
   "name": "python3"
  },
  "language_info": {
   "codemirror_mode": {
    "name": "ipython",
    "version": 3
   },
   "file_extension": ".py",
   "mimetype": "text/x-python",
   "name": "python",
   "nbconvert_exporter": "python",
   "pygments_lexer": "ipython3",
   "version": "3.8.13"
  },
  "orig_nbformat": 4
 },
 "nbformat": 4,
 "nbformat_minor": 2
}
